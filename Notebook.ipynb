{
 "cells": [
  {
   "cell_type": "code",
   "id": "initial_id",
   "metadata": {
    "collapsed": true,
    "ExecuteTime": {
     "end_time": "2025-10-15T03:38:16.048386Z",
     "start_time": "2025-10-15T03:38:15.688324Z"
    }
   },
   "source": [
    "import numpy as np\n",
    "import pandas as pd\n"
   ],
   "outputs": [],
   "execution_count": 4
  },
  {
   "metadata": {
    "ExecuteTime": {
     "end_time": "2025-10-15T03:40:31.534108Z",
     "start_time": "2025-10-15T03:40:30.558235Z"
    }
   },
   "cell_type": "code",
   "source": [
    "data_fake = pd.read_csv('archive/Fake.csv')\n",
    "data_real = pd.read_csv('archive/True.csv')\n",
    "data_real[\"label\"] = 1   # 1 = Real\n",
    "data_fake[\"label\"] = 0"
   ],
   "id": "7ed85691490d4eb",
   "outputs": [],
   "execution_count": 13
  },
  {
   "metadata": {
    "ExecuteTime": {
     "end_time": "2025-10-15T03:40:32.046509Z",
     "start_time": "2025-10-15T03:40:32.020512Z"
    }
   },
   "cell_type": "code",
   "source": "data = pd.concat([data_real, data_fake]).sample(frac=1).reset_index(drop=True)",
   "id": "d1dca2624a8246cc",
   "outputs": [],
   "execution_count": 14
  },
  {
   "metadata": {
    "ExecuteTime": {
     "end_time": "2025-10-15T03:40:32.683779Z",
     "start_time": "2025-10-15T03:40:32.598858Z"
    }
   },
   "cell_type": "code",
   "source": [
    "data[\"content\"] = data[\"title\"] + \" \" + data[\"text\"]\n",
    "data = data[[\"content\", \"label\"]]\n"
   ],
   "id": "cdb13ee57ed6b309",
   "outputs": [],
   "execution_count": 15
  },
  {
   "metadata": {
    "ExecuteTime": {
     "end_time": "2025-10-15T03:43:12.506507Z",
     "start_time": "2025-10-15T03:41:16.211275Z"
    }
   },
   "cell_type": "code",
   "source": [
    "import re\n",
    "import nltk\n",
    "from nltk.corpus import stopwords\n",
    "from nltk.stem import PorterStemmer\n",
    "\n",
    "nltk.download(\"stopwords\")\n",
    "stop_words = set(stopwords.words(\"english\"))\n",
    "ps = PorterStemmer()\n",
    "\n",
    "def clean_text(text):\n",
    "    text = text.lower()\n",
    "    text = re.sub(r\"http\\S+\", \"\", text)  # remove URLs\n",
    "    text = re.sub(r\"[^a-z\\s]\", \"\", text)  # remove punctuation/numbers\n",
    "    words = text.split()\n",
    "    words = [ps.stem(w) for w in words if w not in stop_words]\n",
    "    return \" \".join(words)\n",
    "\n",
    "data[\"clean_text\"] = data[\"content\"].apply(clean_text)\n"
   ],
   "id": "13c066c5eb5f8b2a",
   "outputs": [
    {
     "name": "stderr",
     "output_type": "stream",
     "text": [
      "[nltk_data] Downloading package stopwords to\n",
      "[nltk_data]     /Users/animesh/nltk_data...\n",
      "[nltk_data]   Package stopwords is already up-to-date!\n"
     ]
    }
   ],
   "execution_count": 16
  },
  {
   "metadata": {
    "ExecuteTime": {
     "end_time": "2025-10-15T03:49:06.719192Z",
     "start_time": "2025-10-15T03:48:25.303147Z"
    }
   },
   "cell_type": "code",
   "source": [
    "from sklearn.feature_extraction.text import TfidfVectorizer\n",
    "\n",
    "tfidf = TfidfVectorizer(max_features=5000, ngram_range=(1,2))\n",
    "X = tfidf.fit_transform(data[\"clean_text\"]).toarray()\n",
    "y = data[\"label\"].values\n"
   ],
   "id": "ed4af3b50ab7fe82",
   "outputs": [],
   "execution_count": 17
  },
  {
   "metadata": {
    "ExecuteTime": {
     "end_time": "2025-10-15T03:50:10.159958Z",
     "start_time": "2025-10-15T03:50:06.049574Z"
    }
   },
   "cell_type": "code",
   "source": [
    "from sklearn.model_selection import train_test_split\n",
    "\n",
    "X_train, X_test, y_train, y_test = train_test_split(\n",
    "    X, y, test_size=0.2, random_state=42, stratify=y)\n"
   ],
   "id": "a5ba38b844afa08c",
   "outputs": [],
   "execution_count": 18
  },
  {
   "metadata": {
    "ExecuteTime": {
     "end_time": "2025-10-15T03:50:31.878919Z",
     "start_time": "2025-10-15T03:50:22.723470Z"
    }
   },
   "cell_type": "code",
   "source": [
    "from sklearn.linear_model import LogisticRegression\n",
    "from sklearn.metrics import classification_report\n",
    "\n",
    "model = LogisticRegression(max_iter=1000)\n",
    "model.fit(X_train, y_train)\n",
    "\n",
    "y_pred = model.predict(X_test)\n",
    "print(classification_report(y_test, y_pred))\n",
    "\n"
   ],
   "id": "c2768817bc30ef7e",
   "outputs": [
    {
     "name": "stdout",
     "output_type": "stream",
     "text": [
      "              precision    recall  f1-score   support\n",
      "\n",
      "           0       0.99      0.99      0.99      4696\n",
      "           1       0.99      0.99      0.99      4284\n",
      "\n",
      "    accuracy                           0.99      8980\n",
      "   macro avg       0.99      0.99      0.99      8980\n",
      "weighted avg       0.99      0.99      0.99      8980\n",
      "\n"
     ]
    }
   ],
   "execution_count": 19
  },
  {
   "metadata": {
    "ExecuteTime": {
     "end_time": "2025-10-15T03:52:08.943609Z",
     "start_time": "2025-10-15T03:52:07.551304Z"
    }
   },
   "cell_type": "code",
   "source": [
    "import joblib\n",
    "joblib.dump(model, \"model/fake_news_model.pkl\")\n",
    "joblib.dump(tfidf, \"model/vectorizer.pkl\")\n"
   ],
   "id": "1463fa29ff10b1c0",
   "outputs": [
    {
     "data": {
      "text/plain": [
       "['model/vectorizer.pkl']"
      ]
     },
     "execution_count": 20,
     "metadata": {},
     "output_type": "execute_result"
    }
   ],
   "execution_count": 20
  },
  {
   "metadata": {},
   "cell_type": "code",
   "outputs": [],
   "execution_count": null,
   "source": "",
   "id": "d3fd903a15353995"
  }
 ],
 "metadata": {
  "kernelspec": {
   "display_name": "Python 3",
   "language": "python",
   "name": "python3"
  },
  "language_info": {
   "codemirror_mode": {
    "name": "ipython",
    "version": 2
   },
   "file_extension": ".py",
   "mimetype": "text/x-python",
   "name": "python",
   "nbconvert_exporter": "python",
   "pygments_lexer": "ipython2",
   "version": "2.7.6"
  }
 },
 "nbformat": 4,
 "nbformat_minor": 5
}
